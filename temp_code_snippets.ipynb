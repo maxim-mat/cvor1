{
 "cells": [
  {
   "cell_type": "code",
   "execution_count": null,
   "metadata": {
    "collapsed": true
   },
   "outputs": [],
   "source": [
    "import imgaug as ia\n",
    "import imgaug.augmenters as iaa\n",
    "import numpy as np\n",
    "import cv2\n",
    "\n",
    "# Load the images and labels\n",
    "images = []\n",
    "labels = []\n",
    "\n",
    "with open(\"dataset.txt\", \"r\") as file:\n",
    "    for line in file:\n",
    "        line = line.strip().split()\n",
    "        images.append(cv2.imread(line[0]))\n",
    "        labels.append(line[1:])\n",
    "\n",
    "# Convert the images and labels to NumPy arrays\n",
    "images = np.array(images)\n",
    "labels = np.array(labels)\n",
    "\n",
    "# Define the augmentation sequence\n",
    "seq = iaa.Sequential([\n",
    "    iaa.Fliplr(0.5),  # horizontally flip 50% of the images\n",
    "    iaa.Affine(rotate=(-45, 45)),  # rotate the images by a random degree between -45 and 45\n",
    "    iaa.AdditiveGaussianNoise(scale=(0, 0.1*255)),  # add random noise to the images\n",
    "    iaa.Multiply((0.8, 1.2)),  # adjust the brightness of the images\n",
    "])\n",
    "\n",
    "# Augment the images and labels\n",
    "images_aug, labels_aug = seq(images=images, annotations=labels)\n",
    "\n",
    "# Save the augmented images and labels\n",
    "for i, (image, label) in enumerate(zip(images_aug, labels_aug)):\n",
    "    cv2.imwrite(\"augmented_images/image_{}.jpg\".format(i), image)\n",
    "    with open(\"augmented_labels/label_{}.txt\".format(i), \"w\") as file:\n",
    "        file.write(\" \".join(label))"
   ]
  },
  {
   "cell_type": "code",
   "execution_count": null,
   "outputs": [],
   "source": [
    "import pandas as pd\n",
    "from sklearn.utils import resample\n",
    "\n",
    "# Load the dataset\n",
    "df = pd.read_csv(\"dataset.csv\")\n",
    "\n",
    "# Separate the majority and minority classes\n",
    "df_majority = df[df.target.isin([0, 1])]\n",
    "df_minority = df[df.target.isin([2, 3, 4])]\n",
    "\n",
    "# Oversample the minority class\n",
    "df_minority_oversampled = resample(df_minority,\n",
    "                                    replace=True,\n",
    "                                    n_samples=len(df_majority),\n",
    "                                    random_state=123)\n",
    "\n",
    "# Undersample the majority class\n",
    "df_majority_undersampled = resample(df_majority,\n",
    "                                     replace=False,\n",
    "                                     n_samples=len(df_minority),\n",
    "                                     random_state=123)\n",
    "\n",
    "# Combine the oversampled minority class with the undersampled majority class\n",
    "df_balanced = pd.concat([df_majority_undersampled, df_minority_oversampled])\n",
    "\n",
    "# Shuffle the rows\n",
    "df_balanced = df_balanced.sample(frac=1, random_state=123).reset_index(drop=True)\n",
    "\n",
    "# Print the balanced dataset\n",
    "print(df_balanced)\n"
   ],
   "metadata": {
    "collapsed": false
   }
  }
 ],
 "metadata": {
  "kernelspec": {
   "display_name": "Python 3",
   "language": "python",
   "name": "python3"
  },
  "language_info": {
   "codemirror_mode": {
    "name": "ipython",
    "version": 2
   },
   "file_extension": ".py",
   "mimetype": "text/x-python",
   "name": "python",
   "nbconvert_exporter": "python",
   "pygments_lexer": "ipython2",
   "version": "2.7.6"
  }
 },
 "nbformat": 4,
 "nbformat_minor": 0
}
