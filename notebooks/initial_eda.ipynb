{
 "cells": [
  {
   "cell_type": "code",
   "execution_count": 2,
   "metadata": {
    "collapsed": true
   },
   "outputs": [],
   "source": [
    "import numpy as np\n",
    "import pandas as pd\n",
    "import cv2 as cv\n",
    "import bbox_visualizer as bbv\n",
    "import matplotlib.pyplot as plt\n",
    "from PIL import __version__ as PILLOW_VERSION\n",
    "from torchvision import datasets\n",
    "import torch\n",
    "from torch.utils.data import Dataset\n",
    "from PIL import Image\n",
    "import os\n",
    "import bbox_visualizer as bbv"
   ]
  },
  {
   "cell_type": "code",
   "execution_count": 3,
   "outputs": [],
   "source": [
    "DATA_ROOT = \"../data/raw/HW1_dataset/\""
   ],
   "metadata": {
    "collapsed": false
   }
  },
  {
   "cell_type": "code",
   "execution_count": 4,
   "outputs": [
    {
     "data": {
      "text/plain": "{'Right_Scissors': 0,\n 'Left_Scissors': 1,\n 'Right_Needle_driver': 2,\n 'Left_Needle_driver': 3,\n 'Right_Forceps': 4,\n 'Left_Forceps': 5,\n 'Right_Empty': 6,\n 'Left_Empty': 7}"
     },
     "execution_count": 4,
     "metadata": {},
     "output_type": "execute_result"
    }
   ],
   "source": [
    "with open(os.path.join(DATA_ROOT, \"classes.names\"), \"r\") as f:\n",
    "    classes_encoding = {name.strip(\"\\n\"): i for i, name in enumerate(f.readlines())}\n",
    "\n",
    "classes_encoding"
   ],
   "metadata": {
    "collapsed": false
   }
  },
  {
   "cell_type": "markdown",
   "source": [
    "### Get Labels"
   ],
   "metadata": {
    "collapsed": false
   }
  },
  {
   "cell_type": "code",
   "execution_count": 5,
   "outputs": [
    {
     "name": "stdout",
     "output_type": "stream",
     "text": [
      "{'P038_tissue1_889', 'P040_balloon1_956', 'P017_balloon1_1551'}\n"
     ]
    }
   ],
   "source": [
    "# sanity check for missing labels\n",
    "bbox_labels = {name.split(\".\")[0] for name in os.listdir(os.path.join(DATA_ROOT, \"bboxes_labels\"))}\n",
    "_images = {name.split(\".\")[0] for name in os.listdir(os.path.join(DATA_ROOT, \"images\"))}\n",
    "missing_labels = bbox_labels.symmetric_difference(_images)\n",
    "print(missing_labels)"
   ],
   "metadata": {
    "collapsed": false
   }
  },
  {
   "cell_type": "code",
   "execution_count": 6,
   "outputs": [],
   "source": [
    "# remove files without labels\n",
    "image_filenames = [filename for filename in os.listdir(os.path.join(DATA_ROOT, \"images\")) if filename.split(\".\")[0] not in missing_labels]\n",
    "label_filenames = os.listdir(os.path.join(DATA_ROOT, \"bboxes_labels\"))\n",
    "\n",
    "# sanity check that order is maintained\n",
    "for label_filename, image_filename in zip(label_filenames, image_filenames):\n",
    "    label_filename, image_filename = label_filename.split(\".\")[0], image_filename.split(\".\")[0]\n",
    "    if label_filename != image_filename:\n",
    "        print(label_filename, image_filename)\n",
    "        break"
   ],
   "metadata": {
    "collapsed": false
   }
  },
  {
   "cell_type": "code",
   "execution_count": 7,
   "outputs": [],
   "source": [
    "def reverse_transform_format(label, w_img, h_img):\n",
    "    cls, x_center, y_center, w, h, = label\n",
    "    w_box = w * w_img\n",
    "    h_box = h * h_img\n",
    "    x_min = x_center * w_img - w_box / 2\n",
    "    x_max = x_center * w_img + w_box / 2\n",
    "    y_min = y_center * h_img - h_box / 2\n",
    "    y_max = y_center * h_img + h_box / 2\n",
    "    return [cls, x_min, y_min, x_max, y_max]\n",
    "\n",
    "\n",
    "class ImageBBoxDataset(Dataset):\n",
    "    \"\"\" This assumes that all images are of the same size \"\"\"\n",
    "\n",
    "    def __init__(self, root=DATA_ROOT, label_folder=\"bboxes_labels\", image_folder=\"images\", labels=label_filenames, images=image_filenames,\n",
    "                 transform=None):\n",
    "        if len(images) != len(labels):\n",
    "            raise RuntimeError(\"labels and images count dont match\")\n",
    "        self.root = root\n",
    "        self.label_folder = label_folder\n",
    "        self.image_folder = image_folder\n",
    "        self.label_filenames = labels\n",
    "        self.images = images\n",
    "        self.labels = []\n",
    "        self.transform = transform\n",
    "\n",
    "        temp_img = Image.open(os.path.join(self.root, self.image_folder, self.images[0]))\n",
    "        self.w_img, self.h_img = temp_img.size\n",
    "\n",
    "        for label_filename in self.label_filenames:\n",
    "            with open(os.path.join(self.root, self.label_folder, label_filename), \"r\") as f:\n",
    "                lines = f.readlines()\n",
    "                bbox_label = [reverse_transform_format([int(cls), float(x), float(y), float(w), float(h)], self.w_img, self.h_img)\n",
    "                              for cls, x, y, w, h in [line.split(\" \") for line in lines]]\n",
    "                self.labels.append(bbox_label)\n",
    "\n",
    "    def __getitem__(self, index):\n",
    "        image_path = os.path.join(self.root, self.image_folder, self.images[index])\n",
    "        x = cv.imread(image_path)[..., ::-1]\n",
    "        y = self.labels[index]\n",
    "        if self.transform is not None:\n",
    "            x = self.transform(x)\n",
    "        return x, y\n",
    "\n",
    "    def __len__(self):\n",
    "        return len(self.images)\n",
    "\n",
    "ds = ImageBBoxDataset()"
   ],
   "metadata": {
    "collapsed": false
   }
  },
  {
   "cell_type": "code",
   "execution_count": 8,
   "outputs": [
    {
     "data": {
      "text/plain": "-1"
     },
     "execution_count": 8,
     "metadata": {},
     "output_type": "execute_result"
    }
   ],
   "source": [
    "frame, boxes = ds[0]\n",
    "boxes = [[round(coord) for coord in box[1:]] for box in boxes]\n",
    "frame = bbv.draw_multiple_rectangles(frame, boxes,bbox_color=(255,0,0))\n",
    "cv.imshow('Frame', frame)\n",
    "cv.waitKey(0)\n",
    "cv.destroyAllWindows()\n",
    "cv.waitKey(1)"
   ],
   "metadata": {
    "collapsed": false
   }
  },
  {
   "cell_type": "code",
   "execution_count": 16,
   "outputs": [
    {
     "data": {
      "text/plain": "<Figure size 640x480 with 1 Axes>",
      "image/png": "[encoded data removed]"
     },
     "metadata": {},
     "output_type": "display_data"
    }
   ],
   "source": [
    "def count_labels(dataset, classes):\n",
    "    counter = {c: 0 for c in classes}\n",
    "    for _, labels in dataset:\n",
    "        for label in labels:\n",
    "            counter[label[0]] += 1\n",
    "    return counter\n",
    "\n",
    "counts = count_labels(ds, classes_encoding.values())\n",
    "total = sum(counts.values())\n",
    "plt.bar(range(len(counts)), [v / total for v in counts.values()], align='center')\n",
    "plt.xticks(range(len(counts)), list(classes_encoding.keys()), rotation=90)\n",
    "plt.show()"
   ],
   "metadata": {
    "collapsed": false
   }
  },
  {
   "cell_type": "code",
   "execution_count": null,
   "outputs": [],
   "source": [],
   "metadata": {
    "collapsed": false
   }
  }
 ],
 "metadata": {
  "kernelspec": {
   "display_name": "Python 3",
   "language": "python",
   "name": "python3"
  },
  "language_info": {
   "codemirror_mode": {
    "name": "ipython",
    "version": 2
   },
   "file_extension": ".py",
   "mimetype": "text/x-python",
   "name": "python",
   "nbconvert_exporter": "python",
   "pygments_lexer": "ipython2",
   "version": "2.7.6"
  }
 },
 "nbformat": 4,
 "nbformat_minor": 0
}
